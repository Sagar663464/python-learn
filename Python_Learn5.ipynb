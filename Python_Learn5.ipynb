{
 "cells": [
  {
   "cell_type": "code",
   "execution_count": 33,
   "id": "e5d5dedf",
   "metadata": {},
   "outputs": [],
   "source": [
    "class Laptop:\n",
    "    \n",
    "    def play_game(self):\n",
    "        print(\"Game started\")\n",
    "\n",
    "    def stop_game(self):\n",
    "        print(\"Game stopped\")        \n",
    "    \n",
    "    def play_video(self):\n",
    "        print(\"Playing video\")"
   ]
  },
  {
   "cell_type": "code",
   "execution_count": 34,
   "id": "1dc6ba6f",
   "metadata": {},
   "outputs": [],
   "source": [
    "dell = Laptop()"
   ]
  },
  {
   "cell_type": "code",
   "execution_count": 35,
   "id": "2f0e5f02",
   "metadata": {},
   "outputs": [
    {
     "name": "stdout",
     "output_type": "stream",
     "text": [
      "Game started\n"
     ]
    }
   ],
   "source": [
    "dell.play_game()"
   ]
  },
  {
   "cell_type": "code",
   "execution_count": 36,
   "id": "c1b95277",
   "metadata": {},
   "outputs": [
    {
     "name": "stdout",
     "output_type": "stream",
     "text": [
      "Game stopped\n"
     ]
    }
   ],
   "source": [
    "dell.stop_game()"
   ]
  },
  {
   "cell_type": "code",
   "execution_count": 37,
   "id": "96d160a1",
   "metadata": {},
   "outputs": [],
   "source": [
    "class Tablets:\n",
    "    def track_loc(self, loc):\n",
    "        self.loc = loc\n",
    "    \n",
    "    def get_loc(self):\n",
    "        return self.loc\n",
    "    \n",
    "    def set_color(self, color):\n",
    "        self.color = color\n",
    "        \n",
    "    def get_color(self):\n",
    "        return self.color\n",
    "    \n",
    "    def set_cost(self, cost):\n",
    "        self.cost = cost\n",
    "        \n",
    "    def get_cost(self):\n",
    "        return self.cost\n",
    "        "
   ]
  },
  {
   "cell_type": "code",
   "execution_count": 38,
   "id": "7d1dc40c",
   "metadata": {},
   "outputs": [],
   "source": [
    "ipad = Tablets()"
   ]
  },
  {
   "cell_type": "code",
   "execution_count": 39,
   "id": "4c4ac577",
   "metadata": {},
   "outputs": [
    {
     "ename": "AttributeError",
     "evalue": "'Tablets' object has no attribute 'color'",
     "output_type": "error",
     "traceback": [
      "\u001b[1;31m---------------------------------------------------------------------------\u001b[0m",
      "\u001b[1;31mAttributeError\u001b[0m                            Traceback (most recent call last)",
      "\u001b[1;32m<ipython-input-39-94a0e66524a2>\u001b[0m in \u001b[0;36m<module>\u001b[1;34m\u001b[0m\n\u001b[1;32m----> 1\u001b[1;33m \u001b[0mipad\u001b[0m\u001b[1;33m.\u001b[0m\u001b[0mcolor\u001b[0m\u001b[1;33m(\u001b[0m\u001b[1;34m\"Blue\"\u001b[0m\u001b[1;33m)\u001b[0m\u001b[1;33m\u001b[0m\u001b[0m\n\u001b[0m",
      "\u001b[1;31mAttributeError\u001b[0m: 'Tablets' object has no attribute 'color'"
     ]
    }
   ],
   "source": [
    "ipad.color(\"Blue\")"
   ]
  },
  {
   "cell_type": "code",
   "execution_count": 45,
   "id": "77944223",
   "metadata": {},
   "outputs": [],
   "source": [
    "ipad.set_color(\"Blue\")"
   ]
  },
  {
   "cell_type": "code",
   "execution_count": 41,
   "id": "599bde83",
   "metadata": {},
   "outputs": [],
   "source": [
    "ipad.track_loc(\"2 deg North\")"
   ]
  },
  {
   "cell_type": "code",
   "execution_count": 42,
   "id": "1ea80a91",
   "metadata": {},
   "outputs": [
    {
     "data": {
      "text/plain": [
       "'2 deg North'"
      ]
     },
     "execution_count": 42,
     "metadata": {},
     "output_type": "execute_result"
    }
   ],
   "source": [
    "ipad.get_loc()"
   ]
  },
  {
   "cell_type": "code",
   "execution_count": 43,
   "id": "230ffde0",
   "metadata": {},
   "outputs": [],
   "source": [
    "ipad.set_cost(\"$400\")"
   ]
  },
  {
   "cell_type": "code",
   "execution_count": 44,
   "id": "c4885374",
   "metadata": {},
   "outputs": [
    {
     "data": {
      "text/plain": [
       "'$400'"
      ]
     },
     "execution_count": 44,
     "metadata": {},
     "output_type": "execute_result"
    }
   ],
   "source": [
    "ipad.get_cost()"
   ]
  },
  {
   "cell_type": "code",
   "execution_count": 46,
   "id": "209a9ace",
   "metadata": {},
   "outputs": [
    {
     "data": {
      "text/plain": [
       "'Blue'"
      ]
     },
     "execution_count": 46,
     "metadata": {},
     "output_type": "execute_result"
    }
   ],
   "source": [
    "ipad.get_color()"
   ]
  },
  {
   "cell_type": "code",
   "execution_count": 20,
   "id": "b5bcc949",
   "metadata": {},
   "outputs": [],
   "source": [
    "class Mobiles:\n",
    "    def __init__(self, color, cost, battery, year):\n",
    "        self.color = color\n",
    "        self.cost = cost\n",
    "        self.battery = battery\n",
    "        self.year = year\n",
    "        \n",
    "    def props(self):\n",
    "        print(self.color)\n",
    "        print(self.cost)\n",
    "        print(self.battery)\n",
    "        print(self.year)    "
   ]
  },
  {
   "cell_type": "code",
   "execution_count": 12,
   "id": "7b66f7a2",
   "metadata": {},
   "outputs": [],
   "source": [
    "Apple = Mobiles(\"Blue\", 200, \"5000MaH\", 2023)"
   ]
  },
  {
   "cell_type": "code",
   "execution_count": 13,
   "id": "03d858ea",
   "metadata": {},
   "outputs": [
    {
     "data": {
      "text/plain": [
       "'Blue'"
      ]
     },
     "execution_count": 13,
     "metadata": {},
     "output_type": "execute_result"
    }
   ],
   "source": [
    "Apple.color"
   ]
  },
  {
   "cell_type": "code",
   "execution_count": 29,
   "id": "a03bdb09",
   "metadata": {},
   "outputs": [],
   "source": [
    "class Employee:\n",
    "    def __init__(self, name, age, salary, gender):\n",
    "        self.name = name\n",
    "        self.age = age\n",
    "        self.salary = salary\n",
    "        self.gender = gender\n",
    "        \n",
    "    def employee_details(self):\n",
    "        print(\"Name:\", self.name)\n",
    "        print(\"Age:\", self.age)\n",
    "        print(\"Salary:\", self.salary)\n",
    "        print(\"Gender:\", self.gender)"
   ]
  },
  {
   "cell_type": "code",
   "execution_count": 31,
   "id": "5526b7a8",
   "metadata": {},
   "outputs": [],
   "source": [
    "sam = Employee(\"Sam\", 27, 20000, \"Male\")\n",
    "james = Employee(\"James\", 29, 25000, \"Male\")"
   ]
  },
  {
   "cell_type": "code",
   "execution_count": 32,
   "id": "a21e8212",
   "metadata": {},
   "outputs": [
    {
     "name": "stdout",
     "output_type": "stream",
     "text": [
      "Name: Sam\n",
      "Age: 27\n",
      "Salary: 20000\n",
      "Gender: Male\n"
     ]
    }
   ],
   "source": [
    "sam.employee_details()"
   ]
  },
  {
   "cell_type": "code",
   "execution_count": 33,
   "id": "3d90cfe5",
   "metadata": {},
   "outputs": [
    {
     "name": "stdout",
     "output_type": "stream",
     "text": [
      "Name: James\n",
      "Age: 29\n",
      "Salary: 25000\n",
      "Gender: Male\n"
     ]
    }
   ],
   "source": [
    "james.employee_details()"
   ]
  },
  {
   "cell_type": "code",
   "execution_count": null,
   "id": "cc10233b",
   "metadata": {},
   "outputs": [],
   "source": []
  },
  {
   "cell_type": "code",
   "execution_count": null,
   "id": "e2325f12",
   "metadata": {},
   "outputs": [],
   "source": []
  },
  {
   "cell_type": "code",
   "execution_count": null,
   "id": "252ad834",
   "metadata": {},
   "outputs": [],
   "source": []
  }
 ],
 "metadata": {
  "kernelspec": {
   "display_name": "Python 3",
   "language": "python",
   "name": "python3"
  },
  "language_info": {
   "codemirror_mode": {
    "name": "ipython",
    "version": 3
   },
   "file_extension": ".py",
   "mimetype": "text/x-python",
   "name": "python",
   "nbconvert_exporter": "python",
   "pygments_lexer": "ipython3",
   "version": "3.6.6"
  }
 },
 "nbformat": 4,
 "nbformat_minor": 5
}
