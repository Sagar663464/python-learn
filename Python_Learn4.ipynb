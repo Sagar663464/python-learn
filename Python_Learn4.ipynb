{
 "cells": [
  {
   "cell_type": "code",
   "execution_count": 3,
   "id": "41cd4740",
   "metadata": {},
   "outputs": [
    {
     "name": "stdout",
     "output_type": "stream",
     "text": [
      "Enter a number.\n",
      "5\n",
      "The number is an odd number.\n"
     ]
    }
   ],
   "source": [
    "#odd_even_problem\n",
    "\n",
    "\n",
    "num = int(input(\"Enter a number.\\n\"))\n",
    "if num % 2 == 0:\n",
    "    print(\"The number is an even number.\")\n",
    "else:\n",
    "    print(\"The number is an odd number.\")"
   ]
  },
  {
   "cell_type": "code",
   "execution_count": 6,
   "id": "51332788",
   "metadata": {},
   "outputs": [
    {
     "name": "stdout",
     "output_type": "stream",
     "text": [
      "Enter a number.\n",
      "0\n",
      "The number is zero.\n"
     ]
    }
   ],
   "source": [
    "#positive_negative\n",
    "\n",
    "a = int(input(\"Enter a number.\\n\"))\n",
    "if a > 0:\n",
    "    print(\"The number is positive.\")\n",
    "elif a < 0:\n",
    "    print(\"The number is negative.\")\n",
    "elif a == 0:\n",
    "    print(\"The number is zero.\")\n"
   ]
  },
  {
   "cell_type": "code",
   "execution_count": 10,
   "id": "c2e0f96e",
   "metadata": {},
   "outputs": [],
   "source": [
    "x = 20\n",
    "y = 30\n",
    "\n",
    "if x * y <= 1000:\n",
    "    x = x+y\n",
    "    "
   ]
  },
  {
   "cell_type": "code",
   "execution_count": null,
   "id": "50e9546c",
   "metadata": {},
   "outputs": [],
   "source": [
    "while x * y <=1000:\n",
    "    print(x+y)\n",
    "    "
   ]
  },
  {
   "cell_type": "code",
   "execution_count": null,
   "id": "b48e95f8",
   "metadata": {},
   "outputs": [],
   "source": [
    "num = int(input(\"Enter a Number\"))\n",
    "if num % 2 == 0:\n",
    "    print(num, \"is even number.\")\n",
    "else:\n",
    "    print(num, \"is odd number.\")"
   ]
  },
  {
   "cell_type": "code",
   "execution_count": null,
   "id": "c053f30a",
   "metadata": {},
   "outputs": [],
   "source": [
    "num = int(input(\"Enter a Number\"))\n",
    "if num % 2 == 0:\n",
    "    print(num, \"is even number.\")\n",
    "else:\n",
    "    print(num, \"is odd number.\")"
   ]
  },
  {
   "cell_type": "code",
   "execution_count": null,
   "id": "8e015b02",
   "metadata": {},
   "outputs": [],
   "source": [
    "#factorial"
   ]
  },
  {
   "cell_type": "code",
   "execution_count": null,
   "id": "2c944ef0",
   "metadata": {},
   "outputs": [],
   "source": [
    "a = int(input(\"Enter a number.\"))\n",
    "factorial = 1\n",
    "for i in range(1, a+1):\n",
    "    factorial = factorial * i\n",
    "\n",
    "print(\"The factorial of\", a, \"is\", factorial)\n"
   ]
  },
  {
   "cell_type": "code",
   "execution_count": null,
   "id": "7d10ca4f",
   "metadata": {},
   "outputs": [],
   "source": [
    "#reverse "
   ]
  },
  {
   "cell_type": "code",
   "execution_count": null,
   "id": "95c52f7e",
   "metadata": {},
   "outputs": [],
   "source": [
    "n = int(input(\"Enter a number:\"))\n",
    "rev = 0\n",
    "\n",
    "while(n>0):\n",
    "    digit = n % 10\n",
    "    rev = digit + rev*10\n",
    "    n = n//10\n",
    "    \n",
    "print(rev)"
   ]
  },
  {
   "cell_type": "code",
   "execution_count": null,
   "id": "e96c7e67",
   "metadata": {},
   "outputs": [],
   "source": [
    "#reverse"
   ]
  },
  {
   "cell_type": "code",
   "execution_count": null,
   "id": "e94b9a8b",
   "metadata": {},
   "outputs": [],
   "source": [
    "q = int(input(\"Enter a number:\"))\n",
    "rev = 0\n",
    "\n",
    "while(q>=0):\n",
    "    digit = q % 10\n",
    "    rev = rev*10 + digit\n",
    "    q = q//10\n",
    "    \n",
    "print(rev)\n",
    "\n"
   ]
  },
  {
   "cell_type": "code",
   "execution_count": null,
   "id": "5b9b7d67",
   "metadata": {},
   "outputs": [],
   "source": [
    "#palindrome\n",
    "#121, 1001, 234432"
   ]
  },
  {
   "cell_type": "code",
   "execution_count": null,
   "id": "96f9e2d8",
   "metadata": {},
   "outputs": [],
   "source": [
    "q = int(input(\"Enter a number:\"))\n",
    "pli = 0\n",
    "temp = q\n",
    "\n",
    "while(q>0):\n",
    "    digit = q % 10\n",
    "    pli = pli*10 + digit\n",
    "    q = q//10\n",
    "    \n",
    "    \n",
    "if pli==temp:\n",
    "    print(\"This number is a palindrome\")\n",
    "else:\n",
    "    print(\"This number is not a palindrome\")\n",
    "\n"
   ]
  },
  {
   "cell_type": "code",
   "execution_count": null,
   "id": "9375b9dc",
   "metadata": {},
   "outputs": [],
   "source": [
    "#fibonacci"
   ]
  },
  {
   "cell_type": "code",
   "execution_count": 1,
   "id": "483a731b",
   "metadata": {},
   "outputs": [
    {
     "name": "stdout",
     "output_type": "stream",
     "text": [
      "Enter the number:6\n",
      "5\n"
     ]
    }
   ],
   "source": [
    "n = int(input(\"Enter the number:\"))\n",
    "a = 0\n",
    "b = 1\n",
    "\n",
    "if n < 0:\n",
    "    print(\"Wrong Input\")\n",
    "elif n == 1:\n",
    "    print(0)\n",
    "else:\n",
    "    for i in range(2, n):\n",
    "        c = a + b\n",
    "        a = b\n",
    "        b = c\n",
    "        \n",
    "    print(c)"
   ]
  },
  {
   "cell_type": "code",
   "execution_count": 2,
   "id": "e26ff9b1",
   "metadata": {},
   "outputs": [],
   "source": [
    "def hlo():\n",
    "    print(\"hello world\")\n",
    "    "
   ]
  },
  {
   "cell_type": "code",
   "execution_count": 4,
   "id": "b36c11af",
   "metadata": {},
   "outputs": [
    {
     "name": "stdout",
     "output_type": "stream",
     "text": [
      "hello world\n"
     ]
    }
   ],
   "source": [
    "hlo()"
   ]
  },
  {
   "cell_type": "code",
   "execution_count": 5,
   "id": "d6bb1e72",
   "metadata": {},
   "outputs": [],
   "source": [
    "def add10(y):\n",
    "    return y + 10"
   ]
  },
  {
   "cell_type": "code",
   "execution_count": 6,
   "id": "1d644de9",
   "metadata": {},
   "outputs": [
    {
     "data": {
      "text/plain": [
       "110"
      ]
     },
     "execution_count": 6,
     "metadata": {},
     "output_type": "execute_result"
    }
   ],
   "source": [
    "add10(100)"
   ]
  },
  {
   "cell_type": "code",
   "execution_count": null,
   "id": "31fd9529",
   "metadata": {},
   "outputs": [],
   "source": [
    "#Defining functions"
   ]
  },
  {
   "cell_type": "code",
   "execution_count": 18,
   "id": "64c4e168",
   "metadata": {},
   "outputs": [],
   "source": [
    "def evenodd(x):\n",
    "    if x == 0:\n",
    "        print(\"Zero is neither even nor odd\")\n",
    "    elif x % 2 != 0:\n",
    "        print(x, \"is odd\")\n",
    "    elif x % 2 == 0:\n",
    "        print(x, \"is even\")\n",
    "        "
   ]
  },
  {
   "cell_type": "code",
   "execution_count": 19,
   "id": "e33ef49d",
   "metadata": {},
   "outputs": [
    {
     "name": "stdout",
     "output_type": "stream",
     "text": [
      "Zero is neither even nor odd\n"
     ]
    }
   ],
   "source": [
    "evenodd(0)"
   ]
  },
  {
   "cell_type": "code",
   "execution_count": 20,
   "id": "7d8f2b0a",
   "metadata": {},
   "outputs": [],
   "source": [
    "q = lambda x : x*x*x*x*x"
   ]
  },
  {
   "cell_type": "code",
   "execution_count": 22,
   "id": "30e1eab0",
   "metadata": {},
   "outputs": [
    {
     "data": {
      "text/plain": [
       "550731776"
      ]
     },
     "execution_count": 22,
     "metadata": {},
     "output_type": "execute_result"
    }
   ],
   "source": [
    "q(56)"
   ]
  },
  {
   "cell_type": "code",
   "execution_count": null,
   "id": "50247525",
   "metadata": {},
   "outputs": [],
   "source": [
    "#lambda functions with filter"
   ]
  },
  {
   "cell_type": "code",
   "execution_count": 23,
   "id": "1b799790",
   "metadata": {},
   "outputs": [],
   "source": [
    "l1 = [1, 2, 3, 4, 5, 6, 7, 8, 9, 10, 11]"
   ]
  },
  {
   "cell_type": "code",
   "execution_count": 24,
   "id": "4150dc7a",
   "metadata": {},
   "outputs": [],
   "source": [
    "a = list(filter(lambda x : x % 2 != 0, l1))"
   ]
  },
  {
   "cell_type": "code",
   "execution_count": 25,
   "id": "49f2f2d8",
   "metadata": {},
   "outputs": [
    {
     "data": {
      "text/plain": [
       "[1, 3, 5, 7, 9, 11]"
      ]
     },
     "execution_count": 25,
     "metadata": {},
     "output_type": "execute_result"
    }
   ],
   "source": [
    "a\n"
   ]
  },
  {
   "cell_type": "code",
   "execution_count": 26,
   "id": "f152871b",
   "metadata": {},
   "outputs": [],
   "source": [
    "b = list(map(lambda x : x*2, l1))"
   ]
  },
  {
   "cell_type": "code",
   "execution_count": 27,
   "id": "65d5fdbb",
   "metadata": {},
   "outputs": [
    {
     "name": "stdout",
     "output_type": "stream",
     "text": [
      "[2, 4, 6, 8, 10, 12, 14, 16, 18, 20, 22]\n"
     ]
    }
   ],
   "source": [
    "print(b)"
   ]
  },
  {
   "cell_type": "code",
   "execution_count": null,
   "id": "ba92544f",
   "metadata": {},
   "outputs": [],
   "source": [
    "#lambda_reduce"
   ]
  },
  {
   "cell_type": "code",
   "execution_count": 28,
   "id": "3579642d",
   "metadata": {},
   "outputs": [
    {
     "name": "stdout",
     "output_type": "stream",
     "text": [
      "550\n"
     ]
    }
   ],
   "source": [
    "from functools import reduce\n",
    "l2 = [10, 20, 30, 40, 50, 60, 70, 80, 90, 100]\n",
    "a = reduce((lambda x, y : x + y), l2)\n",
    "print(a)"
   ]
  },
  {
   "cell_type": "code",
   "execution_count": 29,
   "id": "a230a05f",
   "metadata": {},
   "outputs": [],
   "source": [
    "import functools"
   ]
  },
  {
   "cell_type": "code",
   "execution_count": 32,
   "id": "b028dc52",
   "metadata": {},
   "outputs": [
    {
     "name": "stdout",
     "output_type": "stream",
     "text": [
      "10\n"
     ]
    }
   ],
   "source": [
    "l3 = [1, 2, 3, 4, 5, 6, 7, 8, 9, 10]\n",
    "\n",
    "big = reduce((lambda x, y : x if x>y else y), l3)\n",
    "print(big)"
   ]
  },
  {
   "cell_type": "code",
   "execution_count": null,
   "id": "1afc2aa1",
   "metadata": {},
   "outputs": [],
   "source": []
  },
  {
   "cell_type": "code",
   "execution_count": null,
   "id": "cda4d5f9",
   "metadata": {},
   "outputs": [],
   "source": []
  },
  {
   "cell_type": "code",
   "execution_count": null,
   "id": "cbf15e41",
   "metadata": {},
   "outputs": [],
   "source": []
  }
 ],
 "metadata": {
  "kernelspec": {
   "display_name": "Python 3",
   "language": "python",
   "name": "python3"
  },
  "language_info": {
   "codemirror_mode": {
    "name": "ipython",
    "version": 3
   },
   "file_extension": ".py",
   "mimetype": "text/x-python",
   "name": "python",
   "nbconvert_exporter": "python",
   "pygments_lexer": "ipython3",
   "version": "3.6.6"
  }
 },
 "nbformat": 4,
 "nbformat_minor": 5
}
