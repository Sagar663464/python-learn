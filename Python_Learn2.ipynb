{
 "cells": [
  {
   "cell_type": "code",
   "execution_count": 1,
   "id": "2b5928ac",
   "metadata": {},
   "outputs": [],
   "source": [
    "li = [1, \"Hey\", True, 2, 3, 4, 5, 6, 7]"
   ]
  },
  {
   "cell_type": "code",
   "execution_count": 2,
   "id": "1205ae1d",
   "metadata": {},
   "outputs": [
    {
     "data": {
      "text/plain": [
       "list"
      ]
     },
     "execution_count": 2,
     "metadata": {},
     "output_type": "execute_result"
    }
   ],
   "source": [
    "type(li)"
   ]
  },
  {
   "cell_type": "code",
   "execution_count": 3,
   "id": "96a8812e",
   "metadata": {},
   "outputs": [
    {
     "data": {
      "text/plain": [
       "1"
      ]
     },
     "execution_count": 3,
     "metadata": {},
     "output_type": "execute_result"
    }
   ],
   "source": [
    "li[0]"
   ]
  },
  {
   "cell_type": "code",
   "execution_count": 4,
   "id": "62dcf9c1",
   "metadata": {},
   "outputs": [
    {
     "data": {
      "text/plain": [
       "[True]"
      ]
     },
     "execution_count": 4,
     "metadata": {},
     "output_type": "execute_result"
    }
   ],
   "source": [
    "li[2:3]"
   ]
  },
  {
   "cell_type": "code",
   "execution_count": 5,
   "id": "5b1bd94f",
   "metadata": {},
   "outputs": [
    {
     "data": {
      "text/plain": [
       "True"
      ]
     },
     "execution_count": 5,
     "metadata": {},
     "output_type": "execute_result"
    }
   ],
   "source": [
    "li[2]"
   ]
  },
  {
   "cell_type": "code",
   "execution_count": 7,
   "id": "ac0d59e7",
   "metadata": {},
   "outputs": [
    {
     "data": {
      "text/plain": [
       "6"
      ]
     },
     "execution_count": 7,
     "metadata": {},
     "output_type": "execute_result"
    }
   ],
   "source": [
    "li[-2]"
   ]
  },
  {
   "cell_type": "code",
   "execution_count": 12,
   "id": "d86f2f41",
   "metadata": {},
   "outputs": [
    {
     "data": {
      "text/plain": [
       "[1,\n",
       " 'Hey',\n",
       " True,\n",
       " 2,\n",
       " 3,\n",
       " 4,\n",
       " 5,\n",
       " 6,\n",
       " 7,\n",
       " 'Sparta',\n",
       " 'Sparta',\n",
       " 'Sparta',\n",
       " 'Sparta',\n",
       " 'Sparta']"
      ]
     },
     "execution_count": 12,
     "metadata": {},
     "output_type": "execute_result"
    }
   ],
   "source": [
    "li.append('Sparta')\n",
    "li"
   ]
  },
  {
   "cell_type": "code",
   "execution_count": 13,
   "id": "07d7db53",
   "metadata": {
    "collapsed": true
   },
   "outputs": [
    {
     "data": {
      "text/plain": [
       "'Sparta'"
      ]
     },
     "execution_count": 13,
     "metadata": {},
     "output_type": "execute_result"
    }
   ],
   "source": [
    "li.pop()"
   ]
  },
  {
   "cell_type": "code",
   "execution_count": 14,
   "id": "98a92fa6",
   "metadata": {},
   "outputs": [
    {
     "data": {
      "text/plain": [
       "[1, 'Hey', True, 2, 3, 4, 5, 6, 7, 'Sparta', 'Sparta', 'Sparta', 'Sparta']"
      ]
     },
     "execution_count": 14,
     "metadata": {},
     "output_type": "execute_result"
    }
   ],
   "source": [
    "li"
   ]
  },
  {
   "cell_type": "code",
   "execution_count": 15,
   "id": "e87d709f",
   "metadata": {},
   "outputs": [],
   "source": [
    "li = [1, 2, 3, 4, 5, 6, 7, 8, 9]"
   ]
  },
  {
   "cell_type": "code",
   "execution_count": 16,
   "id": "a3c05972",
   "metadata": {},
   "outputs": [
    {
     "data": {
      "text/plain": [
       "[1, 2, 3, 4, 5, 6, 7, 8, 9]"
      ]
     },
     "execution_count": 16,
     "metadata": {},
     "output_type": "execute_result"
    }
   ],
   "source": [
    "li\n"
   ]
  },
  {
   "cell_type": "code",
   "execution_count": 17,
   "id": "3bff9fd4",
   "metadata": {},
   "outputs": [],
   "source": [
    "li.append(\"hey\")"
   ]
  },
  {
   "cell_type": "code",
   "execution_count": 18,
   "id": "a28992c3",
   "metadata": {},
   "outputs": [
    {
     "data": {
      "text/plain": [
       "[1, 2, 3, 4, 5, 6, 7, 8, 9, 'hey']"
      ]
     },
     "execution_count": 18,
     "metadata": {},
     "output_type": "execute_result"
    }
   ],
   "source": [
    "li"
   ]
  },
  {
   "cell_type": "code",
   "execution_count": 19,
   "id": "c87528b5",
   "metadata": {},
   "outputs": [
    {
     "name": "stdout",
     "output_type": "stream",
     "text": [
      "hey\n"
     ]
    }
   ],
   "source": [
    "print(li.pop())"
   ]
  },
  {
   "cell_type": "code",
   "execution_count": 20,
   "id": "65b95719",
   "metadata": {},
   "outputs": [
    {
     "data": {
      "text/plain": [
       "[1, 2, 3, 4, 5, 6, 7, 8, 9]"
      ]
     },
     "execution_count": 20,
     "metadata": {},
     "output_type": "execute_result"
    }
   ],
   "source": [
    "li"
   ]
  },
  {
   "cell_type": "code",
   "execution_count": 22,
   "id": "5aece118",
   "metadata": {},
   "outputs": [],
   "source": [
    "li[0] = 100"
   ]
  },
  {
   "cell_type": "code",
   "execution_count": 23,
   "id": "2ddd0065",
   "metadata": {},
   "outputs": [
    {
     "data": {
      "text/plain": [
       "[100, 2, 3, 4, 5, 6, 7, 8, 9]"
      ]
     },
     "execution_count": 23,
     "metadata": {},
     "output_type": "execute_result"
    }
   ],
   "source": [
    "li"
   ]
  },
  {
   "cell_type": "code",
   "execution_count": 24,
   "id": "b57f6291",
   "metadata": {},
   "outputs": [
    {
     "data": {
      "text/plain": [
       "2"
      ]
     },
     "execution_count": 24,
     "metadata": {},
     "output_type": "execute_result"
    }
   ],
   "source": [
    "li.pop(1)"
   ]
  },
  {
   "cell_type": "code",
   "execution_count": 25,
   "id": "5f95a71a",
   "metadata": {},
   "outputs": [
    {
     "data": {
      "text/plain": [
       "[100, 3, 4, 5, 6, 7, 8, 9]"
      ]
     },
     "execution_count": 25,
     "metadata": {},
     "output_type": "execute_result"
    }
   ],
   "source": [
    "li"
   ]
  },
  {
   "cell_type": "code",
   "execution_count": 38,
   "id": "e5c6a4ef",
   "metadata": {},
   "outputs": [],
   "source": [
    "a = [\"mango\", \"angry\", \"laugh\", \"giggle\", \"whisper\"]"
   ]
  },
  {
   "cell_type": "code",
   "execution_count": 39,
   "id": "ff4c447a",
   "metadata": {},
   "outputs": [
    {
     "name": "stdout",
     "output_type": "stream",
     "text": [
      "['angry', 'giggle', 'laugh', 'mango', 'whisper']\n"
     ]
    }
   ],
   "source": [
    "a.sort()\n",
    "print(a)"
   ]
  },
  {
   "cell_type": "code",
   "execution_count": 40,
   "id": "175ab925",
   "metadata": {},
   "outputs": [],
   "source": [
    "a.reverse()"
   ]
  },
  {
   "cell_type": "code",
   "execution_count": 41,
   "id": "751724de",
   "metadata": {},
   "outputs": [
    {
     "name": "stdout",
     "output_type": "stream",
     "text": [
      "['whisper', 'mango', 'laugh', 'giggle', 'angry']\n"
     ]
    }
   ],
   "source": [
    "print(a)"
   ]
  },
  {
   "cell_type": "code",
   "execution_count": 42,
   "id": "cb194af6",
   "metadata": {},
   "outputs": [],
   "source": [
    "a.insert(0, \"///\")"
   ]
  },
  {
   "cell_type": "code",
   "execution_count": 43,
   "id": "56dab58e",
   "metadata": {},
   "outputs": [
    {
     "data": {
      "text/plain": [
       "['///', 'whisper', 'mango', 'laugh', 'giggle', 'angry']"
      ]
     },
     "execution_count": 43,
     "metadata": {},
     "output_type": "execute_result"
    }
   ],
   "source": [
    "a"
   ]
  },
  {
   "cell_type": "code",
   "execution_count": 44,
   "id": "079d9eb3",
   "metadata": {},
   "outputs": [
    {
     "data": {
      "text/plain": [
       "['///',\n",
       " 'whisper',\n",
       " 'mango',\n",
       " 'laugh',\n",
       " 'giggle',\n",
       " 'angry',\n",
       " '///',\n",
       " 'whisper',\n",
       " 'mango',\n",
       " 'laugh',\n",
       " 'giggle',\n",
       " 'angry']"
      ]
     },
     "execution_count": 44,
     "metadata": {},
     "output_type": "execute_result"
    }
   ],
   "source": [
    "a + a"
   ]
  },
  {
   "cell_type": "code",
   "execution_count": 45,
   "id": "a317d840",
   "metadata": {},
   "outputs": [
    {
     "data": {
      "text/plain": [
       "['///',\n",
       " 'whisper',\n",
       " 'mango',\n",
       " 'laugh',\n",
       " 'giggle',\n",
       " 'angry',\n",
       " '///',\n",
       " 'whisper',\n",
       " 'mango',\n",
       " 'laugh',\n",
       " 'giggle',\n",
       " 'angry',\n",
       " '///',\n",
       " 'whisper',\n",
       " 'mango',\n",
       " 'laugh',\n",
       " 'giggle',\n",
       " 'angry']"
      ]
     },
     "execution_count": 45,
     "metadata": {},
     "output_type": "execute_result"
    }
   ],
   "source": [
    "a * 3"
   ]
  },
  {
   "cell_type": "code",
   "execution_count": 46,
   "id": "264821dc",
   "metadata": {},
   "outputs": [],
   "source": [
    "fruits = {'apple':50, 'banana':20, 'mango':40}"
   ]
  },
  {
   "cell_type": "code",
   "execution_count": 48,
   "id": "cb52a861",
   "metadata": {},
   "outputs": [
    {
     "data": {
      "text/plain": [
       "dict"
      ]
     },
     "execution_count": 48,
     "metadata": {},
     "output_type": "execute_result"
    }
   ],
   "source": [
    "type(fruits)"
   ]
  },
  {
   "cell_type": "code",
   "execution_count": 50,
   "id": "7de2d7bc",
   "metadata": {},
   "outputs": [
    {
     "data": {
      "text/plain": [
       "dict_keys(['apple', 'banana', 'mango'])"
      ]
     },
     "execution_count": 50,
     "metadata": {},
     "output_type": "execute_result"
    }
   ],
   "source": [
    "fruits.keys()"
   ]
  },
  {
   "cell_type": "code",
   "execution_count": 51,
   "id": "d619ba72",
   "metadata": {},
   "outputs": [
    {
     "data": {
      "text/plain": [
       "dict_values([50, 20, 40])"
      ]
     },
     "execution_count": 51,
     "metadata": {},
     "output_type": "execute_result"
    }
   ],
   "source": [
    "fruits.values()"
   ]
  },
  {
   "cell_type": "code",
   "execution_count": 52,
   "id": "1f1b9fed",
   "metadata": {},
   "outputs": [],
   "source": [
    "dict1 = {True:20, False:30}"
   ]
  },
  {
   "cell_type": "code",
   "execution_count": 54,
   "id": "0410d867",
   "metadata": {},
   "outputs": [
    {
     "data": {
      "text/plain": [
       "dict_values([20, 30])"
      ]
     },
     "execution_count": 54,
     "metadata": {},
     "output_type": "execute_result"
    }
   ],
   "source": [
    "dict1.values()"
   ]
  },
  {
   "cell_type": "code",
   "execution_count": 55,
   "id": "92c20990",
   "metadata": {},
   "outputs": [
    {
     "data": {
      "text/plain": [
       "dict_items([('apple', 50), ('banana', 20), ('mango', 40)])"
      ]
     },
     "execution_count": 55,
     "metadata": {},
     "output_type": "execute_result"
    }
   ],
   "source": [
    "fruits.items()"
   ]
  },
  {
   "cell_type": "code",
   "execution_count": 56,
   "id": "fc90fbf3",
   "metadata": {},
   "outputs": [],
   "source": [
    "fruits[\"guava\"] = 30"
   ]
  },
  {
   "cell_type": "code",
   "execution_count": 58,
   "id": "08431bac",
   "metadata": {},
   "outputs": [],
   "source": [
    "fruits['apple'] = 60"
   ]
  },
  {
   "cell_type": "code",
   "execution_count": 59,
   "id": "e8844f2e",
   "metadata": {},
   "outputs": [
    {
     "data": {
      "text/plain": [
       "{'apple': 60, 'banana': 20, 'mango': 40, 'guava': 30}"
      ]
     },
     "execution_count": 59,
     "metadata": {},
     "output_type": "execute_result"
    }
   ],
   "source": [
    "fruits"
   ]
  },
  {
   "cell_type": "code",
   "execution_count": 60,
   "id": "9d96b624",
   "metadata": {},
   "outputs": [],
   "source": [
    "fruits[\"blue berry\"] = 120"
   ]
  },
  {
   "cell_type": "code",
   "execution_count": 61,
   "id": "5226d3db",
   "metadata": {},
   "outputs": [
    {
     "data": {
      "text/plain": [
       "{'apple': 60, 'banana': 20, 'mango': 40, 'guava': 30, 'blue berry': 120}"
      ]
     },
     "execution_count": 61,
     "metadata": {},
     "output_type": "execute_result"
    }
   ],
   "source": [
    "fruits"
   ]
  },
  {
   "cell_type": "code",
   "execution_count": 62,
   "id": "019559c7",
   "metadata": {},
   "outputs": [
    {
     "data": {
      "text/plain": [
       "dict_keys(['apple', 'banana', 'mango', 'guava', 'blue berry'])"
      ]
     },
     "execution_count": 62,
     "metadata": {},
     "output_type": "execute_result"
    }
   ],
   "source": [
    "fruits.keys()"
   ]
  },
  {
   "cell_type": "code",
   "execution_count": 63,
   "id": "76116e16",
   "metadata": {},
   "outputs": [
    {
     "data": {
      "text/plain": [
       "dict_values([60, 20, 40, 30, 120])"
      ]
     },
     "execution_count": 63,
     "metadata": {},
     "output_type": "execute_result"
    }
   ],
   "source": [
    "fruits.values()"
   ]
  },
  {
   "cell_type": "code",
   "execution_count": 64,
   "id": "09b79afb",
   "metadata": {},
   "outputs": [
    {
     "ename": "TypeError",
     "evalue": "values() takes no arguments (1 given)",
     "output_type": "error",
     "traceback": [
      "\u001b[1;31m---------------------------------------------------------------------------\u001b[0m",
      "\u001b[1;31mTypeError\u001b[0m                                 Traceback (most recent call last)",
      "\u001b[1;32m<ipython-input-64-fb4d9c85a816>\u001b[0m in \u001b[0;36m<module>\u001b[1;34m\u001b[0m\n\u001b[1;32m----> 1\u001b[1;33m \u001b[0mfruits\u001b[0m\u001b[1;33m.\u001b[0m\u001b[0mvalues\u001b[0m\u001b[1;33m(\u001b[0m\u001b[1;36m30\u001b[0m\u001b[1;33m)\u001b[0m\u001b[1;33m\u001b[0m\u001b[0m\n\u001b[0m",
      "\u001b[1;31mTypeError\u001b[0m: values() takes no arguments (1 given)"
     ]
    }
   ],
   "source": [
    "fruits.values(30)"
   ]
  },
  {
   "cell_type": "code",
   "execution_count": 65,
   "id": "7ff27e93",
   "metadata": {},
   "outputs": [],
   "source": [
    "game1 = {\"soccer\":50, \"cricket\":60}\n",
    "game2 = {\"baseball\":30, \"basketball\":40}"
   ]
  },
  {
   "cell_type": "code",
   "execution_count": 66,
   "id": "caaf61e5",
   "metadata": {},
   "outputs": [],
   "source": [
    "game1.update(game2)"
   ]
  },
  {
   "cell_type": "code",
   "execution_count": 67,
   "id": "a4721a3c",
   "metadata": {},
   "outputs": [
    {
     "name": "stdout",
     "output_type": "stream",
     "text": [
      "{'soccer': 50, 'cricket': 60, 'baseball': 30, 'basketball': 40}\n"
     ]
    }
   ],
   "source": [
    "print(game1)"
   ]
  },
  {
   "cell_type": "code",
   "execution_count": 69,
   "id": "a938e692",
   "metadata": {},
   "outputs": [
    {
     "data": {
      "text/plain": [
       "60"
      ]
     },
     "execution_count": 69,
     "metadata": {},
     "output_type": "execute_result"
    }
   ],
   "source": [
    "game1.pop(\"cricket\")"
   ]
  },
  {
   "cell_type": "code",
   "execution_count": 70,
   "id": "04df705d",
   "metadata": {},
   "outputs": [
    {
     "data": {
      "text/plain": [
       "{'soccer': 50, 'baseball': 30, 'basketball': 40}"
      ]
     },
     "execution_count": 70,
     "metadata": {},
     "output_type": "execute_result"
    }
   ],
   "source": [
    "game1"
   ]
  },
  {
   "cell_type": "code",
   "execution_count": 74,
   "id": "eb5e341c",
   "metadata": {},
   "outputs": [
    {
     "name": "stdout",
     "output_type": "stream",
     "text": [
      "50\n"
     ]
    }
   ],
   "source": [
    "print(game1[\"soccer\"])"
   ]
  },
  {
   "cell_type": "code",
   "execution_count": 76,
   "id": "49b99572",
   "metadata": {},
   "outputs": [],
   "source": [
    "car ={\n",
    "    \"brand\":\"Ford\",\n",
    "    \"model\":\"Mustang\",\n",
    "    \"year\":1964\n",
    "    \n",
    "}"
   ]
  },
  {
   "cell_type": "code",
   "execution_count": 77,
   "id": "907d7d35",
   "metadata": {},
   "outputs": [
    {
     "data": {
      "text/plain": [
       "{'brand': 'Ford', 'model': 'Mustang', 'year': 1964}"
      ]
     },
     "execution_count": 77,
     "metadata": {},
     "output_type": "execute_result"
    }
   ],
   "source": [
    "car"
   ]
  },
  {
   "cell_type": "code",
   "execution_count": 78,
   "id": "1ec26eed",
   "metadata": {},
   "outputs": [
    {
     "name": "stdout",
     "output_type": "stream",
     "text": [
      "Mustang\n"
     ]
    }
   ],
   "source": [
    "print(car[\"model\"])"
   ]
  },
  {
   "cell_type": "code",
   "execution_count": 79,
   "id": "3516461d",
   "metadata": {},
   "outputs": [
    {
     "data": {
      "text/plain": [
       "3"
      ]
     },
     "execution_count": 79,
     "metadata": {},
     "output_type": "execute_result"
    }
   ],
   "source": [
    "len(car)"
   ]
  },
  {
   "cell_type": "code",
   "execution_count": 82,
   "id": "26b231b1",
   "metadata": {},
   "outputs": [],
   "source": [
    "thisdict = dict(manufacturer = \"Dodge\", model = \"Challenger\", year = 1964)"
   ]
  },
  {
   "cell_type": "code",
   "execution_count": 83,
   "id": "21260ac1",
   "metadata": {},
   "outputs": [
    {
     "data": {
      "text/plain": [
       "{'manufacturer': 'Dodge', 'model': 'Challenger', 'year': 1964}"
      ]
     },
     "execution_count": 83,
     "metadata": {},
     "output_type": "execute_result"
    }
   ],
   "source": [
    "thisdict"
   ]
  },
  {
   "cell_type": "code",
   "execution_count": 85,
   "id": "21081ce0",
   "metadata": {},
   "outputs": [
    {
     "name": "stdout",
     "output_type": "stream",
     "text": [
      "Dodge\n"
     ]
    }
   ],
   "source": [
    "print(thisdict[\"manufacturer\"])"
   ]
  },
  {
   "cell_type": "code",
   "execution_count": 93,
   "id": "f45b8ae1",
   "metadata": {},
   "outputs": [],
   "source": [
    "s1 = {1, 2, 'hey', 'ciao', 'veni',True, False}"
   ]
  },
  {
   "cell_type": "code",
   "execution_count": 94,
   "id": "7d32a364",
   "metadata": {},
   "outputs": [
    {
     "name": "stdout",
     "output_type": "stream",
     "text": [
      "{False, 1, 2, 'hey', 'ciao', 'veni'}\n"
     ]
    }
   ],
   "source": [
    "print(s1)"
   ]
  },
  {
   "cell_type": "code",
   "execution_count": 95,
   "id": "8bbbca4d",
   "metadata": {},
   "outputs": [],
   "source": [
    "s1.add(\"Hello\")"
   ]
  },
  {
   "cell_type": "code",
   "execution_count": 96,
   "id": "5545b562",
   "metadata": {},
   "outputs": [
    {
     "data": {
      "text/plain": [
       "{1, 2, False, 'Hello', 'ciao', 'hey', 'veni'}"
      ]
     },
     "execution_count": 96,
     "metadata": {},
     "output_type": "execute_result"
    }
   ],
   "source": [
    "s1"
   ]
  },
  {
   "cell_type": "code",
   "execution_count": 100,
   "id": "82a5a812",
   "metadata": {},
   "outputs": [],
   "source": [
    "s1.update(['hey', 100, 150])"
   ]
  },
  {
   "cell_type": "code",
   "execution_count": 104,
   "id": "a6d17370",
   "metadata": {},
   "outputs": [
    {
     "data": {
      "text/plain": [
       "{1, 100, 150, 2, False, 'Hello', 'ciao', 'hey', 'veni'}"
      ]
     },
     "execution_count": 104,
     "metadata": {},
     "output_type": "execute_result"
    }
   ],
   "source": [
    "s1"
   ]
  },
  {
   "cell_type": "code",
   "execution_count": 105,
   "id": "190dff27",
   "metadata": {},
   "outputs": [],
   "source": [
    "s1.remove(100)"
   ]
  },
  {
   "cell_type": "code",
   "execution_count": 107,
   "id": "1df0475f",
   "metadata": {},
   "outputs": [],
   "source": [
    "s2 = {200, 300, 400, 500}"
   ]
  },
  {
   "cell_type": "code",
   "execution_count": 108,
   "id": "70d1e1c6",
   "metadata": {},
   "outputs": [
    {
     "data": {
      "text/plain": [
       "{1, 150, 2, 200, 300, 400, 500, False, 'Hello', 'ciao', 'hey', 'veni'}"
      ]
     },
     "execution_count": 108,
     "metadata": {},
     "output_type": "execute_result"
    }
   ],
   "source": [
    "s1.union(s2)"
   ]
  },
  {
   "cell_type": "code",
   "execution_count": 109,
   "id": "c0d01dc6",
   "metadata": {},
   "outputs": [
    {
     "data": {
      "text/plain": [
       "set()"
      ]
     },
     "execution_count": 109,
     "metadata": {},
     "output_type": "execute_result"
    }
   ],
   "source": [
    "s1.intersection(s2)"
   ]
  },
  {
   "cell_type": "code",
   "execution_count": 110,
   "id": "5a3a571b",
   "metadata": {},
   "outputs": [
    {
     "data": {
      "text/plain": [
       "{1, 150, 2, False, 'Hello', 'ciao', 'hey', 'veni'}"
      ]
     },
     "execution_count": 110,
     "metadata": {},
     "output_type": "execute_result"
    }
   ],
   "source": [
    "s1"
   ]
  },
  {
   "cell_type": "code",
   "execution_count": 111,
   "id": "7f6c3aad",
   "metadata": {},
   "outputs": [],
   "source": [
    "s3 =s1.union(s2)"
   ]
  },
  {
   "cell_type": "code",
   "execution_count": 112,
   "id": "3e12397c",
   "metadata": {},
   "outputs": [
    {
     "data": {
      "text/plain": [
       "{1, 150, 2, 200, 300, 400, 500, False, 'Hello', 'ciao', 'hey', 'veni'}"
      ]
     },
     "execution_count": 112,
     "metadata": {},
     "output_type": "execute_result"
    }
   ],
   "source": [
    "s3"
   ]
  },
  {
   "cell_type": "code",
   "execution_count": 113,
   "id": "61f4f038",
   "metadata": {},
   "outputs": [],
   "source": [
    "s4 = s2.intersection(s1)"
   ]
  },
  {
   "cell_type": "code",
   "execution_count": 114,
   "id": "0b717354",
   "metadata": {},
   "outputs": [
    {
     "data": {
      "text/plain": [
       "set()"
      ]
     },
     "execution_count": 114,
     "metadata": {},
     "output_type": "execute_result"
    }
   ],
   "source": [
    "s4"
   ]
  },
  {
   "cell_type": "code",
   "execution_count": 117,
   "id": "59affea6",
   "metadata": {},
   "outputs": [],
   "source": [
    "s11 = {1, 2, 3, 4, 5, 6}\n",
    "s22 = {5, 6, 7, 8, 9, 10}"
   ]
  },
  {
   "cell_type": "code",
   "execution_count": 118,
   "id": "8b606c5b",
   "metadata": {},
   "outputs": [
    {
     "data": {
      "text/plain": [
       "{1, 2, 3, 4, 5, 6, 7, 8, 9, 10}"
      ]
     },
     "execution_count": 118,
     "metadata": {},
     "output_type": "execute_result"
    }
   ],
   "source": [
    "s11.union(s22)"
   ]
  },
  {
   "cell_type": "code",
   "execution_count": 119,
   "id": "7f5093c7",
   "metadata": {},
   "outputs": [
    {
     "data": {
      "text/plain": [
       "{1, 2, 3, 4, 5, 6, 7, 8, 9, 10}"
      ]
     },
     "execution_count": 119,
     "metadata": {},
     "output_type": "execute_result"
    }
   ],
   "source": [
    "s22.union(s11)"
   ]
  },
  {
   "cell_type": "code",
   "execution_count": 120,
   "id": "2833d874",
   "metadata": {},
   "outputs": [
    {
     "data": {
      "text/plain": [
       "{5, 6}"
      ]
     },
     "execution_count": 120,
     "metadata": {},
     "output_type": "execute_result"
    }
   ],
   "source": [
    "s11.intersection(s22)"
   ]
  },
  {
   "cell_type": "code",
   "execution_count": null,
   "id": "7ab561c2",
   "metadata": {},
   "outputs": [],
   "source": []
  },
  {
   "cell_type": "code",
   "execution_count": null,
   "id": "997e3f60",
   "metadata": {},
   "outputs": [],
   "source": []
  }
 ],
 "metadata": {
  "kernelspec": {
   "display_name": "Python 3",
   "language": "python",
   "name": "python3"
  },
  "language_info": {
   "codemirror_mode": {
    "name": "ipython",
    "version": 3
   },
   "file_extension": ".py",
   "mimetype": "text/x-python",
   "name": "python",
   "nbconvert_exporter": "python",
   "pygments_lexer": "ipython3",
   "version": "3.6.6"
  }
 },
 "nbformat": 4,
 "nbformat_minor": 5
}
