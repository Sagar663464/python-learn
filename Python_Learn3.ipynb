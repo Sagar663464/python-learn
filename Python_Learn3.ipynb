{
 "cells": [
  {
   "cell_type": "code",
   "execution_count": 1,
   "id": "20a9ef2c",
   "metadata": {},
   "outputs": [
    {
     "name": "stdout",
     "output_type": "stream",
     "text": [
      "Enter a number b/w 0 and 100\n",
      "2\n",
      "Why do you want to enter this number?\n",
      "Haha\n"
     ]
    }
   ],
   "source": [
    "a = int(input(\"Enter a number b/w 0 and 100\\n\"))\n",
    "\n",
    "if a == 10:\n",
    "    print(\"Hooray! you won.....\")\n",
    "elif a >= 10:\n",
    "    print(\"It is greater than 10\")\n",
    "elif a <= 10:\n",
    "    b = str(input(\"Why do you want to enter this number?\\n\"))\n",
    "else:\n",
    "    print(\"Great you too won......\")"
   ]
  },
  {
   "cell_type": "code",
   "execution_count": 2,
   "id": "6618dc54",
   "metadata": {},
   "outputs": [
    {
     "name": "stdout",
     "output_type": "stream",
     "text": [
      "Haha\n"
     ]
    }
   ],
   "source": [
    "print(b)"
   ]
  },
  {
   "cell_type": "code",
   "execution_count": 4,
   "id": "4b4be98f",
   "metadata": {},
   "outputs": [
    {
     "name": "stdout",
     "output_type": "stream",
     "text": [
      "a!=b\n"
     ]
    }
   ],
   "source": [
    "if a == b:\n",
    "    print(\"a == b\")\n",
    "else:\n",
    "    print(\"a!=b\")"
   ]
  },
  {
   "cell_type": "code",
   "execution_count": 8,
   "id": "b2f7d620",
   "metadata": {},
   "outputs": [
    {
     "name": "stdout",
     "output_type": "stream",
     "text": [
      "success\n"
     ]
    }
   ],
   "source": [
    "if a!=b or b!=a:\n",
    "    print(\"success\")"
   ]
  },
  {
   "cell_type": "code",
   "execution_count": 34,
   "id": "4f0922a3",
   "metadata": {},
   "outputs": [],
   "source": [
    "l1 = [1, 2, 3, 4, 5, 6, 7, 8, 9, 10]"
   ]
  },
  {
   "cell_type": "code",
   "execution_count": 26,
   "id": "b69f42e9",
   "metadata": {},
   "outputs": [
    {
     "data": {
      "text/plain": [
       "2"
      ]
     },
     "execution_count": 26,
     "metadata": {},
     "output_type": "execute_result"
    }
   ],
   "source": [
    "l1[1]"
   ]
  },
  {
   "cell_type": "code",
   "execution_count": 35,
   "id": "a749f6d0",
   "metadata": {},
   "outputs": [],
   "source": [
    "if l1[1] == 2:\n",
    "    l1[1] = l1[1] + 100"
   ]
  },
  {
   "cell_type": "code",
   "execution_count": 36,
   "id": "17db8e6c",
   "metadata": {},
   "outputs": [
    {
     "data": {
      "text/plain": [
       "102"
      ]
     },
     "execution_count": 36,
     "metadata": {},
     "output_type": "execute_result"
    }
   ],
   "source": [
    "l1[1]"
   ]
  },
  {
   "cell_type": "code",
   "execution_count": 42,
   "id": "858c9f5f",
   "metadata": {},
   "outputs": [],
   "source": [
    "if l1[4]==5:\n",
    "    l1[3]+=500"
   ]
  },
  {
   "cell_type": "code",
   "execution_count": 43,
   "id": "1739d7c1",
   "metadata": {},
   "outputs": [
    {
     "data": {
      "text/plain": [
       "[1, 102, 3, 504, 5, 6, 7, 8, 9, 10]"
      ]
     },
     "execution_count": 43,
     "metadata": {},
     "output_type": "execute_result"
    }
   ],
   "source": [
    "l1"
   ]
  },
  {
   "cell_type": "code",
   "execution_count": null,
   "id": "a420c099",
   "metadata": {},
   "outputs": [],
   "source": [
    "#Dict"
   ]
  },
  {
   "cell_type": "code",
   "execution_count": 44,
   "id": "2e56e581",
   "metadata": {},
   "outputs": [],
   "source": [
    "d1 = {\"a\":1, \"b\":2, \"c\":3}\n"
   ]
  },
  {
   "cell_type": "code",
   "execution_count": 48,
   "id": "f196b7d2",
   "metadata": {},
   "outputs": [],
   "source": [
    "if d1[\"a\"]==1:\n",
    "    d1[\"a\"]*=100"
   ]
  },
  {
   "cell_type": "code",
   "execution_count": 37,
   "id": "32d14fe4",
   "metadata": {},
   "outputs": [
    {
     "data": {
      "text/plain": [
       "1"
      ]
     },
     "execution_count": 37,
     "metadata": {},
     "output_type": "execute_result"
    }
   ],
   "source": [
    "2//2\n"
   ]
  },
  {
   "cell_type": "code",
   "execution_count": 38,
   "id": "bfe44eac",
   "metadata": {},
   "outputs": [
    {
     "data": {
      "text/plain": [
       "1"
      ]
     },
     "execution_count": 38,
     "metadata": {},
     "output_type": "execute_result"
    }
   ],
   "source": [
    "3//2"
   ]
  },
  {
   "cell_type": "code",
   "execution_count": 39,
   "id": "b9d5d526",
   "metadata": {},
   "outputs": [
    {
     "data": {
      "text/plain": [
       "1"
      ]
     },
     "execution_count": 39,
     "metadata": {},
     "output_type": "execute_result"
    }
   ],
   "source": [
    "3%2"
   ]
  },
  {
   "cell_type": "code",
   "execution_count": 41,
   "id": "34e46629",
   "metadata": {},
   "outputs": [
    {
     "data": {
      "text/plain": [
       "False"
      ]
     },
     "execution_count": 41,
     "metadata": {},
     "output_type": "execute_result"
    }
   ],
   "source": [
    "3//2 is not 3%2"
   ]
  },
  {
   "cell_type": "code",
   "execution_count": 49,
   "id": "b7d50c9b",
   "metadata": {},
   "outputs": [
    {
     "data": {
      "text/plain": [
       "{'a': 100, 'b': 2, 'c': 3}"
      ]
     },
     "execution_count": 49,
     "metadata": {},
     "output_type": "execute_result"
    }
   ],
   "source": [
    "d1"
   ]
  },
  {
   "cell_type": "code",
   "execution_count": 50,
   "id": "ee633f1b",
   "metadata": {},
   "outputs": [],
   "source": [
    "aa = 15\n"
   ]
  },
  {
   "cell_type": "code",
   "execution_count": 6,
   "id": "442ad508",
   "metadata": {},
   "outputs": [
    {
     "name": "stdout",
     "output_type": "stream",
     "text": [
      "Helloooooo\n",
      "Helloooooo\n",
      "Helloooooo\n",
      "Helloooooo\n",
      "Helloooooo\n",
      "Helloooooo\n",
      "Helloooooo\n"
     ]
    }
   ],
   "source": [
    "i = 1\n",
    "while i <= 100:\n",
    "    print(\"Helloooooo\")\n",
    "    i =i*2"
   ]
  },
  {
   "cell_type": "code",
   "execution_count": 55,
   "id": "27eef2ef",
   "metadata": {},
   "outputs": [
    {
     "name": "stdout",
     "output_type": "stream",
     "text": [
      "51\n"
     ]
    }
   ],
   "source": [
    "while aa <= 50:\n",
    "    aa += 1\n",
    "    \n",
    "print(aa)"
   ]
  },
  {
   "cell_type": "code",
   "execution_count": 54,
   "id": "3d2db803",
   "metadata": {},
   "outputs": [
    {
     "data": {
      "text/plain": [
       "51"
      ]
     },
     "execution_count": 54,
     "metadata": {},
     "output_type": "execute_result"
    }
   ],
   "source": [
    "aa"
   ]
  },
  {
   "cell_type": "code",
   "execution_count": 13,
   "id": "d901322a",
   "metadata": {},
   "outputs": [],
   "source": [
    "n = 4\n",
    "i = 1"
   ]
  },
  {
   "cell_type": "code",
   "execution_count": 14,
   "id": "0f85d001",
   "metadata": {},
   "outputs": [
    {
     "name": "stdout",
     "output_type": "stream",
     "text": [
      "4 x 1 = 4\n",
      "4 x 2 = 8\n",
      "4 x 3 = 12\n",
      "4 x 4 = 16\n",
      "4 x 5 = 20\n",
      "4 x 6 = 24\n",
      "4 x 7 = 28\n",
      "4 x 8 = 32\n",
      "4 x 9 = 36\n",
      "4 x 10 = 40\n"
     ]
    }
   ],
   "source": [
    "while i <= 10:\n",
    "    print(n, \"x\", i, \"=\", n*i)\n",
    "    i += 1"
   ]
  },
  {
   "cell_type": "code",
   "execution_count": 23,
   "id": "6e9fbebf",
   "metadata": {},
   "outputs": [],
   "source": [
    "l1 = [1, 2, 3, 4, 5, 6, 7]"
   ]
  },
  {
   "cell_type": "code",
   "execution_count": 44,
   "id": "48670a3e",
   "metadata": {},
   "outputs": [],
   "source": [
    "i = 0"
   ]
  },
  {
   "cell_type": "code",
   "execution_count": 25,
   "id": "60ccb005",
   "metadata": {},
   "outputs": [],
   "source": [
    "while i < len(l1):\n",
    "    l1[i] = l1[i] + 100\n",
    "    i += 1"
   ]
  },
  {
   "cell_type": "code",
   "execution_count": 31,
   "id": "5698a2a8",
   "metadata": {},
   "outputs": [
    {
     "data": {
      "text/plain": [
       "[101, 102, 103, 104, 105, 106, 107]"
      ]
     },
     "execution_count": 31,
     "metadata": {},
     "output_type": "execute_result"
    }
   ],
   "source": [
    "l1"
   ]
  },
  {
   "cell_type": "code",
   "execution_count": 32,
   "id": "3b60f978",
   "metadata": {},
   "outputs": [],
   "source": [
    "#For Loops"
   ]
  },
  {
   "cell_type": "code",
   "execution_count": 34,
   "id": "a7bfbf2a",
   "metadata": {},
   "outputs": [
    {
     "name": "stdout",
     "output_type": "stream",
     "text": [
      "[101, 102, 103, 104, 105, 106, 107]\n",
      "[101, 102, 103, 104, 105, 106, 107]\n",
      "[101, 102, 103, 104, 105, 106, 107]\n",
      "[101, 102, 103, 104, 105, 106, 107]\n",
      "[101, 102, 103, 104, 105, 106, 107]\n",
      "[101, 102, 103, 104, 105, 106, 107]\n",
      "[101, 102, 103, 104, 105, 106, 107]\n"
     ]
    }
   ],
   "source": [
    "for i in l1:\n",
    "    print(l1)"
   ]
  },
  {
   "cell_type": "code",
   "execution_count": 35,
   "id": "2fdc420b",
   "metadata": {},
   "outputs": [],
   "source": [
    "x = 0"
   ]
  },
  {
   "cell_type": "code",
   "execution_count": 36,
   "id": "cc7fab91",
   "metadata": {},
   "outputs": [
    {
     "name": "stdout",
     "output_type": "stream",
     "text": [
      "[101, 102, 103, 104, 105, 106, 107]\n",
      "[101, 102, 103, 104, 105, 106, 107]\n",
      "[101, 102, 103, 104, 105, 106, 107]\n",
      "[101, 102, 103, 104, 105, 106, 107]\n",
      "[101, 102, 103, 104, 105, 106, 107]\n",
      "[101, 102, 103, 104, 105, 106, 107]\n",
      "[101, 102, 103, 104, 105, 106, 107]\n"
     ]
    }
   ],
   "source": [
    "for x in l1:\n",
    "    print(l1)"
   ]
  },
  {
   "cell_type": "code",
   "execution_count": 41,
   "id": "ce2f49a9",
   "metadata": {},
   "outputs": [
    {
     "data": {
      "text/plain": [
       "[101, 102, 103, 104, 105, 106, 107]"
      ]
     },
     "execution_count": 41,
     "metadata": {},
     "output_type": "execute_result"
    }
   ],
   "source": [
    "l1"
   ]
  },
  {
   "cell_type": "code",
   "execution_count": 50,
   "id": "dc66f63f",
   "metadata": {},
   "outputs": [],
   "source": [
    "l1 = [\"Red\", \"Green\", \"Blue\"]\n",
    "l2 = [\"Books\", \"Clothes\", \"Mobiles\"]"
   ]
  },
  {
   "cell_type": "code",
   "execution_count": 51,
   "id": "97b348f5",
   "metadata": {},
   "outputs": [
    {
     "name": "stdout",
     "output_type": "stream",
     "text": [
      "Books are Red\n",
      "Clothes are Red\n",
      "Mobiles are Red\n",
      "Books are Green\n",
      "Clothes are Green\n",
      "Mobiles are Green\n",
      "Books are Blue\n",
      "Clothes are Blue\n",
      "Mobiles are Blue\n"
     ]
    }
   ],
   "source": [
    "for i in l1:\n",
    "    for j in l2:\n",
    "        print(j,\"are\", i)"
   ]
  },
  {
   "cell_type": "code",
   "execution_count": null,
   "id": "aba6be2a",
   "metadata": {},
   "outputs": [],
   "source": []
  },
  {
   "cell_type": "code",
   "execution_count": null,
   "id": "8950f42a",
   "metadata": {},
   "outputs": [],
   "source": []
  },
  {
   "cell_type": "code",
   "execution_count": null,
   "id": "e9450327",
   "metadata": {},
   "outputs": [],
   "source": []
  }
 ],
 "metadata": {
  "kernelspec": {
   "display_name": "Python 3",
   "language": "python",
   "name": "python3"
  },
  "language_info": {
   "codemirror_mode": {
    "name": "ipython",
    "version": 3
   },
   "file_extension": ".py",
   "mimetype": "text/x-python",
   "name": "python",
   "nbconvert_exporter": "python",
   "pygments_lexer": "ipython3",
   "version": "3.6.6"
  }
 },
 "nbformat": 4,
 "nbformat_minor": 5
}
