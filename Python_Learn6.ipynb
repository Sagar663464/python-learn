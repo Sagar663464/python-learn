{
 "cells": [
  {
   "cell_type": "code",
   "execution_count": 3,
   "id": "626c599f",
   "metadata": {},
   "outputs": [],
   "source": [
    "#inheritance_in_class"
   ]
  },
  {
   "cell_type": "code",
   "execution_count": 10,
   "id": "f957025b",
   "metadata": {},
   "outputs": [],
   "source": [
    "class Vehicle:\n",
    "    def __init__(self, mileage, transmission, types):\n",
    "        self.mileage = mileage\n",
    "        self.transmission = transmission\n",
    "        self.types = types\n",
    "        \n",
    "        \n",
    "        \n",
    "    def get_info(self):\n",
    "        print('Vehicle:Car')\n",
    "        print('Mileage:', self.mileage)\n",
    "        print('Vehicle Type:', self.types)"
   ]
  },
  {
   "cell_type": "code",
   "execution_count": 11,
   "id": "f9f8cdef",
   "metadata": {},
   "outputs": [],
   "source": [
    "ford = Vehicle(15, \"Auto\", 'EV')"
   ]
  },
  {
   "cell_type": "code",
   "execution_count": 12,
   "id": "2f65e576",
   "metadata": {},
   "outputs": [
    {
     "name": "stdout",
     "output_type": "stream",
     "text": [
      "Vehicle:Car\n",
      "Mileage: 15\n",
      "Vehicle Type: EV\n"
     ]
    }
   ],
   "source": [
    "ford.get_info()"
   ]
  },
  {
   "cell_type": "code",
   "execution_count": 21,
   "id": "70327576",
   "metadata": {},
   "outputs": [],
   "source": [
    "class Car(Vehicle):\n",
    "    pass"
   ]
  },
  {
   "cell_type": "code",
   "execution_count": 22,
   "id": "8b8087fa",
   "metadata": {},
   "outputs": [],
   "source": [
    "mustang = Car(20, 'Manual','IC')"
   ]
  },
  {
   "cell_type": "code",
   "execution_count": 23,
   "id": "33f1d8ad",
   "metadata": {},
   "outputs": [
    {
     "name": "stdout",
     "output_type": "stream",
     "text": [
      "Vehicle:Car\n",
      "Mileage: 20\n",
      "Vehicle Type: IC\n"
     ]
    }
   ],
   "source": [
    "mustang.get_info()"
   ]
  },
  {
   "cell_type": "code",
   "execution_count": 24,
   "id": "bed35aeb",
   "metadata": {},
   "outputs": [],
   "source": [
    "class Bike(Vehicle):\n",
    "    def year(self, x):\n",
    "        self.x = year"
   ]
  },
  {
   "cell_type": "code",
   "execution_count": 25,
   "id": "7c05a309",
   "metadata": {},
   "outputs": [],
   "source": [
    "hayabusa = Bike(30, 'Manual', 'IC')"
   ]
  },
  {
   "cell_type": "code",
   "execution_count": 28,
   "id": "e0eec970",
   "metadata": {},
   "outputs": [
    {
     "ename": "TypeError",
     "evalue": "__init__() missing 3 required positional arguments: 'mileage', 'transmission', and 'types'",
     "output_type": "error",
     "traceback": [
      "\u001b[1;31m---------------------------------------------------------------------------\u001b[0m",
      "\u001b[1;31mTypeError\u001b[0m                                 Traceback (most recent call last)",
      "\u001b[1;32m<ipython-input-28-5555e388e308>\u001b[0m in \u001b[0;36m<module>\u001b[1;34m\u001b[0m\n\u001b[1;32m----> 1\u001b[1;33m \u001b[0mbenelli\u001b[0m \u001b[1;33m=\u001b[0m \u001b[0mBike\u001b[0m\u001b[1;33m(\u001b[0m\u001b[1;33m)\u001b[0m\u001b[1;33m\u001b[0m\u001b[0m\n\u001b[0m",
      "\u001b[1;31mTypeError\u001b[0m: __init__() missing 3 required positional arguments: 'mileage', 'transmission', and 'types'"
     ]
    }
   ],
   "source": [
    "benelli = Bike()"
   ]
  },
  {
   "cell_type": "code",
   "execution_count": 27,
   "id": "2b3ba257",
   "metadata": {},
   "outputs": [
    {
     "name": "stdout",
     "output_type": "stream",
     "text": [
      "Vehicle:Car\n",
      "Mileage: 30\n",
      "Vehicle Type: IC\n"
     ]
    }
   ],
   "source": [
    "hayabusa.get_info()"
   ]
  },
  {
   "cell_type": "code",
   "execution_count": null,
   "id": "653c305f",
   "metadata": {},
   "outputs": [],
   "source": [
    "#over-riding_init_method"
   ]
  },
  {
   "cell_type": "code",
   "execution_count": 30,
   "id": "f3c81cbe",
   "metadata": {},
   "outputs": [],
   "source": [
    "class Car(Vehicle):\n",
    "    def __init__(self, mileage, cost, transmission, types, tyres):\n",
    "        super().__init__(mileage, transmission, types)\n",
    "        self.cost = cost\n",
    "        self.tyres = tyres\n",
    "        \n",
    "        \n",
    "    def show_car_details(self):\n",
    "        print('Hi')\n",
    "        print('Cost:', self.cost)\n",
    "        print('Tyres:', self.tyres)"
   ]
  },
  {
   "cell_type": "code",
   "execution_count": 31,
   "id": "437d23c1",
   "metadata": {},
   "outputs": [],
   "source": [
    "Challenger = Car(10, 30000, 'Auto', 'IC', 4)"
   ]
  },
  {
   "cell_type": "code",
   "execution_count": 32,
   "id": "63763e9d",
   "metadata": {},
   "outputs": [
    {
     "name": "stdout",
     "output_type": "stream",
     "text": [
      "Hi\n",
      "Cost: 30000\n",
      "Tyres: 4\n"
     ]
    }
   ],
   "source": [
    "Challenger.show_car_details()"
   ]
  },
  {
   "cell_type": "code",
   "execution_count": 33,
   "id": "f370a7e5",
   "metadata": {},
   "outputs": [
    {
     "name": "stdout",
     "output_type": "stream",
     "text": [
      "Vehicle:Car\n",
      "Mileage: 10\n",
      "Vehicle Type: IC\n"
     ]
    }
   ],
   "source": [
    "Challenger.get_info()"
   ]
  },
  {
   "cell_type": "code",
   "execution_count": null,
   "id": "c6aed878",
   "metadata": {},
   "outputs": [],
   "source": [
    "#multiple_inheritance"
   ]
  },
  {
   "cell_type": "code",
   "execution_count": 41,
   "id": "d77b0952",
   "metadata": {},
   "outputs": [],
   "source": [
    "class Parent1():\n",
    "    def set_int_1(self, int1):\n",
    "        self.int1 = int1\n",
    "        \n",
    "    def get_int_1(self):\n",
    "        return self.int1"
   ]
  },
  {
   "cell_type": "code",
   "execution_count": 42,
   "id": "4270705e",
   "metadata": {},
   "outputs": [],
   "source": [
    "class Parent2():\n",
    "    def set_int_2(self, int2):\n",
    "        self.int2 = int2\n",
    "    def get_int_2(self):\n",
    "        return self.int2\n",
    "    "
   ]
  },
  {
   "cell_type": "code",
   "execution_count": 43,
   "id": "7e41fb29",
   "metadata": {},
   "outputs": [],
   "source": [
    "class Child(Parent1, Parent2):\n",
    "    def set_int_3(self, int3):\n",
    "        self.int3 = int3\n",
    "    def get_int_3(self):\n",
    "        return self.int3"
   ]
  },
  {
   "cell_type": "code",
   "execution_count": 44,
   "id": "a376796d",
   "metadata": {},
   "outputs": [],
   "source": [
    "p1 = Child()"
   ]
  },
  {
   "cell_type": "code",
   "execution_count": 48,
   "id": "ef872781",
   "metadata": {},
   "outputs": [],
   "source": [
    "p1.set_int_1 = 20\n",
    "p1.set_int_2 = 40\n",
    "p1.set_int_3 = 60"
   ]
  },
  {
   "cell_type": "code",
   "execution_count": 46,
   "id": "db594286",
   "metadata": {},
   "outputs": [
    {
     "ename": "AttributeError",
     "evalue": "'Child' object has no attribute 'int1'",
     "output_type": "error",
     "traceback": [
      "\u001b[1;31m---------------------------------------------------------------------------\u001b[0m",
      "\u001b[1;31mAttributeError\u001b[0m                            Traceback (most recent call last)",
      "\u001b[1;32m<ipython-input-46-cae9f2a1ff7d>\u001b[0m in \u001b[0;36m<module>\u001b[1;34m\u001b[0m\n\u001b[1;32m----> 1\u001b[1;33m \u001b[0mp1\u001b[0m\u001b[1;33m.\u001b[0m\u001b[0mget_int_1\u001b[0m\u001b[1;33m(\u001b[0m\u001b[1;33m)\u001b[0m\u001b[1;33m\u001b[0m\u001b[0m\n\u001b[0m",
      "\u001b[1;32m<ipython-input-41-7ebf615ffa46>\u001b[0m in \u001b[0;36mget_int_1\u001b[1;34m(self)\u001b[0m\n\u001b[0;32m      4\u001b[0m \u001b[1;33m\u001b[0m\u001b[0m\n\u001b[0;32m      5\u001b[0m     \u001b[1;32mdef\u001b[0m \u001b[0mget_int_1\u001b[0m\u001b[1;33m(\u001b[0m\u001b[0mself\u001b[0m\u001b[1;33m)\u001b[0m\u001b[1;33m:\u001b[0m\u001b[1;33m\u001b[0m\u001b[0m\n\u001b[1;32m----> 6\u001b[1;33m         \u001b[1;32mreturn\u001b[0m \u001b[0mself\u001b[0m\u001b[1;33m.\u001b[0m\u001b[0mint1\u001b[0m\u001b[1;33m\u001b[0m\u001b[0m\n\u001b[0m",
      "\u001b[1;31mAttributeError\u001b[0m: 'Child' object has no attribute 'int1'"
     ]
    }
   ],
   "source": [
    "p1.get_int_1()"
   ]
  },
  {
   "cell_type": "code",
   "execution_count": 49,
   "id": "d117f69f",
   "metadata": {},
   "outputs": [
    {
     "ename": "AttributeError",
     "evalue": "'Child' object has no attribute 'int1'",
     "output_type": "error",
     "traceback": [
      "\u001b[1;31m---------------------------------------------------------------------------\u001b[0m",
      "\u001b[1;31mAttributeError\u001b[0m                            Traceback (most recent call last)",
      "\u001b[1;32m<ipython-input-49-cae9f2a1ff7d>\u001b[0m in \u001b[0;36m<module>\u001b[1;34m\u001b[0m\n\u001b[1;32m----> 1\u001b[1;33m \u001b[0mp1\u001b[0m\u001b[1;33m.\u001b[0m\u001b[0mget_int_1\u001b[0m\u001b[1;33m(\u001b[0m\u001b[1;33m)\u001b[0m\u001b[1;33m\u001b[0m\u001b[0m\n\u001b[0m",
      "\u001b[1;32m<ipython-input-41-7ebf615ffa46>\u001b[0m in \u001b[0;36mget_int_1\u001b[1;34m(self)\u001b[0m\n\u001b[0;32m      4\u001b[0m \u001b[1;33m\u001b[0m\u001b[0m\n\u001b[0;32m      5\u001b[0m     \u001b[1;32mdef\u001b[0m \u001b[0mget_int_1\u001b[0m\u001b[1;33m(\u001b[0m\u001b[0mself\u001b[0m\u001b[1;33m)\u001b[0m\u001b[1;33m:\u001b[0m\u001b[1;33m\u001b[0m\u001b[0m\n\u001b[1;32m----> 6\u001b[1;33m         \u001b[1;32mreturn\u001b[0m \u001b[0mself\u001b[0m\u001b[1;33m.\u001b[0m\u001b[0mint1\u001b[0m\u001b[1;33m\u001b[0m\u001b[0m\n\u001b[0m",
      "\u001b[1;31mAttributeError\u001b[0m: 'Child' object has no attribute 'int1'"
     ]
    }
   ],
   "source": [
    "p1.get_int_1()"
   ]
  },
  {
   "cell_type": "code",
   "execution_count": 51,
   "id": "48820084",
   "metadata": {},
   "outputs": [
    {
     "name": "stdout",
     "output_type": "stream",
     "text": [
      "Hey Bud\n"
     ]
    }
   ],
   "source": [
    "#inheritance_multiple\n",
    "\n",
    "class Parent1():\n",
    "    def set_str_1(self, str1):\n",
    "        self.str1 = str1\n",
    "\n",
    "    def get_str_1(self):\n",
    "        return self.str1\n",
    "\n",
    "class Parent2():\n",
    "    def set_str_2(self, str2):\n",
    "        self.str2 = str2\n",
    "\n",
    "    def get_str_2(self):\n",
    "        return self.str2\n",
    "\n",
    "class Child(Parent1, Parent2):\n",
    "    pass\n",
    "\n",
    "\n",
    "c1 = Child()\n",
    "\n",
    "c1.set_str_1('Hey')\n",
    "c1.set_str_2('Bud')\n",
    "\n",
    "\n",
    "\n",
    "#printing_values\n",
    "\n",
    "q = c1.get_str_1()\n",
    "w = c1.get_str_2()\n",
    "\n",
    "print(q, w)\n",
    "\n"
   ]
  },
  {
   "cell_type": "code",
   "execution_count": 50,
   "id": "2f85bfe4",
   "metadata": {},
   "outputs": [
    {
     "name": "stdout",
     "output_type": "stream",
     "text": [
      "Hey Buddy What's Up\n"
     ]
    }
   ],
   "source": [
    "#inheritance_multiple\n",
    "\n",
    "class Parent1():\n",
    "    def set_str_1(self, str1):\n",
    "        self.str1 = str1\n",
    "\n",
    "    def get_str_1(self):\n",
    "        return self.str1\n",
    "\n",
    "\"\"\"(class Parent2():\n",
    "    def set_str_2(self, str2):\n",
    "        self.str2 = str2\n",
    "\n",
    "    def get_str_2(self):\n",
    "        return self.str2)\"\"\"\n",
    "\n",
    "class Child(Parent1):\n",
    "    def set_str_3(self, str3):\n",
    "        self.str3 = str3\n",
    "\n",
    "    def get_str_3(self):\n",
    "        return self.str3\n",
    "\n",
    "class GrandChild(Child):\n",
    "    def set_str_4(self, str4):\n",
    "        self.str4 = str4\n",
    "\n",
    "    def get_str_4(self):\n",
    "        return self.str4\n",
    "\n",
    "a = GrandChild()\n",
    "\n",
    "a.set_str_1('Hey')\n",
    "a.set_str_3('Buddy')\n",
    "a.set_str_4(\"What's Up\")\n",
    "\n",
    "\n",
    "q1 = a.get_str_1()\n",
    "q2 = a.get_str_3()\n",
    "q3 = a.get_str_4()\n",
    "\n",
    "print(q1, q2, q3)\n",
    "\n",
    "\n"
   ]
  },
  {
   "cell_type": "code",
   "execution_count": null,
   "id": "c8c1c8bb",
   "metadata": {},
   "outputs": [],
   "source": []
  },
  {
   "cell_type": "code",
   "execution_count": null,
   "id": "1765f9f3",
   "metadata": {},
   "outputs": [],
   "source": []
  },
  {
   "cell_type": "code",
   "execution_count": null,
   "id": "d268084c",
   "metadata": {},
   "outputs": [],
   "source": []
  },
  {
   "cell_type": "code",
   "execution_count": null,
   "id": "aafea982",
   "metadata": {},
   "outputs": [],
   "source": []
  },
  {
   "cell_type": "code",
   "execution_count": null,
   "id": "b81230b4",
   "metadata": {},
   "outputs": [],
   "source": []
  }
 ],
 "metadata": {
  "kernelspec": {
   "display_name": "Python 3",
   "language": "python",
   "name": "python3"
  },
  "language_info": {
   "codemirror_mode": {
    "name": "ipython",
    "version": 3
   },
   "file_extension": ".py",
   "mimetype": "text/x-python",
   "name": "python",
   "nbconvert_exporter": "python",
   "pygments_lexer": "ipython3",
   "version": "3.6.6"
  }
 },
 "nbformat": 4,
 "nbformat_minor": 5
}
